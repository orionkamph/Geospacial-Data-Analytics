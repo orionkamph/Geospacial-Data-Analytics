{
 "cells": [
  {
   "cell_type": "markdown",
   "id": "5e08e7d1-f582-4e09-b056-cc57f4ca28ee",
   "metadata": {},
   "source": [
    "Data\n",
    "- Water customer locations (address, customer type, spatial coordinates, etc). Probably in CSV format.\n",
    "- Parcel boundaries for residential parcels with landscape measurements attached (sq.ft. of irrigated and irrigable area, etc) - shapefile\n",
    "- Parcel boundaries for all parcels without landscape measurements - shapefile\n",
    "- Water use data is available, but likely not needed for this project. Might be better for us to fake some data.\n",
    "\n",
    "Potential functionality Baseline:\n",
    "- Display parcels on a map\n",
    "- Display customers on a map\n",
    "- Display basic information about customers, especially for selected customer\n",
    "- Display on a Google maps (or similar) satellite basemap. Or maybe a stylized basemap when zoomed out and a photo basemap when zoomed in?\n",
    "- Play with visualization and visual aesthetic - could help to involve our designer here to give feedback on different approaches\n",
    "do we want customer = parcel? or customers as points and parcels as polygons? \n",
    "- What about multiple customers on one parcel? \n",
    "- How to highlight currently selected customer?\n",
    "- How to show off different attributes of the customers, such as volume of water use or level of efficiency? Colored points? colored parcel boundaries?\n",
    "- Play with showing different amounts or granularities of data at different zoom levels\n",
    "\n",
    "More advanced if time and interest allow:\n",
    "- User can draw an arbitrary polygon on the map and get back a measurement of how much area is enclosed within.\n",
    "- Ability to drag points around the map, e.g. if a point is in the wrong location user could correct its location\n",
    "- Alternately, ability to associate a customer with a parcel(s) - e.g. click customer then click parcel to associate them."
   ]
  },
  {
   "cell_type": "code",
   "execution_count": 1,
   "id": "a73ca2b0-d7cb-494e-831b-91afde6be546",
   "metadata": {
    "tags": []
   },
   "outputs": [],
   "source": [
    "import pandas as pd\n",
    "import geopandas as gpd"
   ]
  },
  {
   "cell_type": "code",
   "execution_count": 2,
   "id": "1f3ecc81-c970-4b8b-89bf-67662a71faf2",
   "metadata": {
    "tags": []
   },
   "outputs": [
    {
     "name": "stderr",
     "output_type": "stream",
     "text": [
      "/tmp/ipykernel_23175/3764432507.py:3: DtypeWarning: Columns (15) have mixed types. Specify dtype option on import or set low_memory=False.\n",
      "  data = pd.read_csv('data/cust_loc_mnwd.csv')\n"
     ]
    }
   ],
   "source": [
    "from shapely import wkt\n",
    "\n",
    "# import data\n",
    "data = pd.read_csv('data/cust_loc_mnwd.csv')\n",
    "\n",
    "# make new dataframe with desired columns\n",
    "data_points = data[['geom','cust_loc_water_type', 'cust_loc_class']].dropna()\n",
    "data_points['geom'] = data_points['geom'].apply(wkt.loads)\n",
    "\n",
    "# reproject data to geodataframe and set crs = 4326\n",
    "gdf_out = gpd.GeoDataFrame(data_points, geometry='geom')\n",
    "gdf_out = gdf_out.set_crs(4326)"
   ]
  },
  {
   "cell_type": "code",
   "execution_count": 9,
   "id": "822a77a8-1825-461f-8531-b18176b949be",
   "metadata": {
    "tags": []
   },
   "outputs": [],
   "source": [
    "gdf_out['lon'] = gdf_out.geom.x\n",
    "gdf_out['lat'] = gdf_out.geom.y"
   ]
  },
  {
   "cell_type": "code",
   "execution_count": 3,
   "id": "3cd4413f-d8ac-451c-9b41-7ac76b4ad7c4",
   "metadata": {
    "tags": []
   },
   "outputs": [],
   "source": [
    "#type(data)"
   ]
  },
  {
   "cell_type": "code",
   "execution_count": 4,
   "id": "aeb5cbca-c236-47f2-be98-097c95e85638",
   "metadata": {
    "tags": []
   },
   "outputs": [],
   "source": [
    "#data"
   ]
  },
  {
   "cell_type": "code",
   "execution_count": 5,
   "id": "8e9c0c65-95c1-4830-8999-3e005957a80f",
   "metadata": {
    "tags": []
   },
   "outputs": [
    {
     "name": "stderr",
     "output_type": "stream",
     "text": [
      "ERROR 1: PROJ: proj_create_from_database: Open of /opt/tljh/user/share/proj failed\n"
     ]
    }
   ],
   "source": [
    "# read parcel data and convert to geodataframe\n",
    "parcels = gpd.read_file('data/Parcels_Queried.shp')\n",
    "\n",
    "parcels_out = gpd.GeoDataFrame(parcels, geometry='geometry')"
   ]
  },
  {
   "cell_type": "code",
   "execution_count": 6,
   "id": "dfaaaf04-a08e-4809-b3d6-73f5c1ce16f7",
   "metadata": {
    "tags": []
   },
   "outputs": [],
   "source": [
    "#parcels.head()"
   ]
  },
  {
   "cell_type": "code",
   "execution_count": 7,
   "id": "3ff5fda0-4530-4bc1-8286-2e11147d50d1",
   "metadata": {
    "tags": []
   },
   "outputs": [],
   "source": [
    "# reproject data to crs = 4326\n",
    "parcels_reprojected = parcels_out.to_crs(4326)"
   ]
  },
  {
   "cell_type": "code",
   "execution_count": 8,
   "id": "0b0eb8b2-467d-4f8c-8467-ce89cde8a112",
   "metadata": {
    "tags": []
   },
   "outputs": [],
   "source": [
    "# select important columns\n",
    "parcels_col = parcels_reprojected[['APN', 'geometry']]"
   ]
  },
  {
   "cell_type": "code",
   "execution_count": 10,
   "id": "679903c9-718f-4f03-94ab-772c818e6ca4",
   "metadata": {
    "tags": []
   },
   "outputs": [],
   "source": [
    "# spacially join gdf_out and parcels\n",
    "gdf_parcels = gpd.sjoin(gdf_out, parcels_col)"
   ]
  },
  {
   "cell_type": "code",
   "execution_count": 23,
   "id": "ae7ab8cf-9d73-4f46-9fe1-40d4fd18e279",
   "metadata": {
    "tags": []
   },
   "outputs": [],
   "source": [
    "# this is the map that runs but it does not produce the tooltip\n",
    "\n",
    "import folium\n",
    "from folium.plugins import FastMarkerCluster\n",
    "m = folium.Map([33.580039,-117.757444],\n",
    "                  zoom_start=12,\n",
    "                  tiles='cartodbpositron')\n",
    "tile = folium.TileLayer(\n",
    "        tiles = 'https://server.arcgisonline.com/ArcGIS/rest/services/World_Imagery/MapServer/tile/{z}/{y}/{x}',\n",
    "        attr = 'Esri',\n",
    "        name = 'Esri Satellite',\n",
    "        overlay = False,\n",
    "        control = True\n",
    "       ).add_to(m)\n",
    "folium.features.GeoJson(parcels_reprojected).add_to(m)\n",
    "\n",
    "m.add_child(FastMarkerCluster(gdf_parcels[['lat', 'lon', 'APN']].values.tolist()))\n",
    "m.save(\"water_map_2.html\")\n"
   ]
  },
  {
   "cell_type": "code",
   "execution_count": 11,
   "id": "424fc237-3484-49b9-a9f0-031af3ba29d7",
   "metadata": {
    "tags": []
   },
   "outputs": [],
   "source": [
    "# create dataframe with desired columns for tooltip\n",
    "test = gdf_out[['geom','cust_loc_water_type']]"
   ]
  },
  {
   "cell_type": "code",
   "execution_count": 12,
   "id": "b97622ac-908d-4562-89fd-829f08a44b0d",
   "metadata": {
    "tags": []
   },
   "outputs": [],
   "source": [
    "# this map does not run because it is too big, but if that were not an issue it would produce the tooltip\n",
    "\n",
    "import folium\n",
    "from folium.plugins import FastMarkerCluster\n",
    "\n",
    "m = folium.Map([33.580039,-117.757444],\n",
    "                  zoom_start=12,\n",
    "                  tiles='cartodbpositron')\n",
    "\n",
    "folium.features.GeoJson(parcels_reprojected).add_to(m)\n",
    "#GeoJson(text).add_to(m)\n",
    "\n",
    "m.add_child(FastMarkerCluster(gdf_parcels[['lat', 'lon', 'APN']].values.tolist()))\n",
    "tile = folium.TileLayer(\n",
    "        tiles = 'https://server.arcgisonline.com/ArcGIS/rest/services/World_Imagery/MapServer/tile/{z}/{y}/{x}',\n",
    "        attr = 'Esri',\n",
    "        name = 'Esri Satellite',\n",
    "        overlay = False,\n",
    "        control = True\n",
    "       ).add_to(m)\n",
    "#mapa.add_children(points)\n",
    "\n",
    "folium.features.GeoJson(test,  \n",
    "                        name='Labels',\n",
    "                        style_function=lambda x: {'color':'transparent','fillColor':'transparent','weight':0},\n",
    "                        tooltip=folium.features.GeoJsonTooltip(fields=['cust_loc_water_type'],\n",
    "                                                                aliases = ['Water Type'],\n",
    "                                                                labels=True,\n",
    "                                                                sticky=False\n",
    "                                                                            )\n",
    "                       ).add_to(m)\n",
    "m.save(\"water_map1.html\")\n"
   ]
  }
 ],
 "metadata": {
  "kernelspec": {
   "display_name": "Python 3 (ipykernel)",
   "language": "python",
   "name": "python3"
  },
  "language_info": {
   "codemirror_mode": {
    "name": "ipython",
    "version": 3
   },
   "file_extension": ".py",
   "mimetype": "text/x-python",
   "name": "python",
   "nbconvert_exporter": "python",
   "pygments_lexer": "ipython3",
   "version": "3.9.16"
  }
 },
 "nbformat": 4,
 "nbformat_minor": 5
}

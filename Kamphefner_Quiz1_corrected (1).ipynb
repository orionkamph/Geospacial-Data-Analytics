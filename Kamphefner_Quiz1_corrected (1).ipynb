{
 "cells": [
  {
   "cell_type": "code",
   "execution_count": 1,
   "id": "758eef98",
   "metadata": {},
   "outputs": [],
   "source": [
    "import pandas as pd"
   ]
  },
  {
   "cell_type": "markdown",
   "id": "c0ed1b14",
   "metadata": {},
   "source": [
    "1. Load data"
   ]
  },
  {
   "cell_type": "code",
   "execution_count": 2,
   "id": "fbb112cf",
   "metadata": {},
   "outputs": [],
   "source": [
    "data = pd.read_csv('daily.csv')"
   ]
  },
  {
   "cell_type": "code",
   "execution_count": 3,
   "id": "1091996a",
   "metadata": {},
   "outputs": [
    {
     "data": {
      "text/html": [
       "<div>\n",
       "<style scoped>\n",
       "    .dataframe tbody tr th:only-of-type {\n",
       "        vertical-align: middle;\n",
       "    }\n",
       "\n",
       "    .dataframe tbody tr th {\n",
       "        vertical-align: top;\n",
       "    }\n",
       "\n",
       "    .dataframe thead th {\n",
       "        text-align: right;\n",
       "    }\n",
       "</style>\n",
       "<table border=\"1\" class=\"dataframe\">\n",
       "  <thead>\n",
       "    <tr style=\"text-align: right;\">\n",
       "      <th></th>\n",
       "      <th>Stn Id</th>\n",
       "      <th>Stn Name</th>\n",
       "      <th>CIMIS Region</th>\n",
       "      <th>Date</th>\n",
       "      <th>Jul</th>\n",
       "      <th>ETo (in)</th>\n",
       "      <th>qc</th>\n",
       "      <th>Precip (in)</th>\n",
       "      <th>qc.1</th>\n",
       "      <th>Sol Rad (Ly/day)</th>\n",
       "      <th>...</th>\n",
       "      <th>Avg Rel Hum (%)</th>\n",
       "      <th>qc.9</th>\n",
       "      <th>Dew Point (F)</th>\n",
       "      <th>qc.10</th>\n",
       "      <th>Avg Wind Speed (mph)</th>\n",
       "      <th>qc.11</th>\n",
       "      <th>Wind Run (miles)</th>\n",
       "      <th>qc.12</th>\n",
       "      <th>Avg Soil Temp (F)</th>\n",
       "      <th>qc.13</th>\n",
       "    </tr>\n",
       "  </thead>\n",
       "  <tbody>\n",
       "    <tr>\n",
       "      <th>0</th>\n",
       "      <td>44</td>\n",
       "      <td>U.C. Riverside</td>\n",
       "      <td>Los Angeles Basin</td>\n",
       "      <td>1/1/2017</td>\n",
       "      <td>1</td>\n",
       "      <td>0.03</td>\n",
       "      <td></td>\n",
       "      <td>0.00</td>\n",
       "      <td></td>\n",
       "      <td>154.0</td>\n",
       "      <td>...</td>\n",
       "      <td>74.0</td>\n",
       "      <td></td>\n",
       "      <td>39.9</td>\n",
       "      <td></td>\n",
       "      <td>2.5</td>\n",
       "      <td></td>\n",
       "      <td>59.5</td>\n",
       "      <td></td>\n",
       "      <td>52.2</td>\n",
       "      <td></td>\n",
       "    </tr>\n",
       "    <tr>\n",
       "      <th>1</th>\n",
       "      <td>44</td>\n",
       "      <td>U.C. Riverside</td>\n",
       "      <td>Los Angeles Basin</td>\n",
       "      <td>1/2/2017</td>\n",
       "      <td>2</td>\n",
       "      <td>0.02</td>\n",
       "      <td></td>\n",
       "      <td>0.00</td>\n",
       "      <td></td>\n",
       "      <td>103.0</td>\n",
       "      <td>...</td>\n",
       "      <td>75.0</td>\n",
       "      <td></td>\n",
       "      <td>41.9</td>\n",
       "      <td></td>\n",
       "      <td>2.9</td>\n",
       "      <td></td>\n",
       "      <td>69.8</td>\n",
       "      <td></td>\n",
       "      <td>52.0</td>\n",
       "      <td></td>\n",
       "    </tr>\n",
       "    <tr>\n",
       "      <th>2</th>\n",
       "      <td>44</td>\n",
       "      <td>U.C. Riverside</td>\n",
       "      <td>Los Angeles Basin</td>\n",
       "      <td>1/3/2017</td>\n",
       "      <td>3</td>\n",
       "      <td>0.02</td>\n",
       "      <td></td>\n",
       "      <td>0.00</td>\n",
       "      <td></td>\n",
       "      <td>134.0</td>\n",
       "      <td>...</td>\n",
       "      <td>77.0</td>\n",
       "      <td></td>\n",
       "      <td>40.8</td>\n",
       "      <td></td>\n",
       "      <td>2.3</td>\n",
       "      <td></td>\n",
       "      <td>54.8</td>\n",
       "      <td></td>\n",
       "      <td>51.6</td>\n",
       "      <td></td>\n",
       "    </tr>\n",
       "    <tr>\n",
       "      <th>3</th>\n",
       "      <td>44</td>\n",
       "      <td>U.C. Riverside</td>\n",
       "      <td>Los Angeles Basin</td>\n",
       "      <td>1/4/2017</td>\n",
       "      <td>4</td>\n",
       "      <td>0.04</td>\n",
       "      <td></td>\n",
       "      <td>0.00</td>\n",
       "      <td></td>\n",
       "      <td>193.0</td>\n",
       "      <td>...</td>\n",
       "      <td>73.0</td>\n",
       "      <td></td>\n",
       "      <td>42.5</td>\n",
       "      <td></td>\n",
       "      <td>2.3</td>\n",
       "      <td></td>\n",
       "      <td>55.1</td>\n",
       "      <td></td>\n",
       "      <td>51.4</td>\n",
       "      <td></td>\n",
       "    </tr>\n",
       "    <tr>\n",
       "      <th>4</th>\n",
       "      <td>44</td>\n",
       "      <td>U.C. Riverside</td>\n",
       "      <td>Los Angeles Basin</td>\n",
       "      <td>1/5/2017</td>\n",
       "      <td>5</td>\n",
       "      <td>0.01</td>\n",
       "      <td></td>\n",
       "      <td>0.13</td>\n",
       "      <td></td>\n",
       "      <td>89.0</td>\n",
       "      <td>...</td>\n",
       "      <td>82.0</td>\n",
       "      <td>Y</td>\n",
       "      <td>49.8</td>\n",
       "      <td>Y</td>\n",
       "      <td>3.0</td>\n",
       "      <td></td>\n",
       "      <td>72.2</td>\n",
       "      <td></td>\n",
       "      <td>53.3</td>\n",
       "      <td></td>\n",
       "    </tr>\n",
       "  </tbody>\n",
       "</table>\n",
       "<p>5 rows × 33 columns</p>\n",
       "</div>"
      ],
      "text/plain": [
       "   Stn Id        Stn Name       CIMIS Region      Date  Jul  ETo (in) qc  \\\n",
       "0      44  U.C. Riverside  Los Angeles Basin  1/1/2017    1      0.03      \n",
       "1      44  U.C. Riverside  Los Angeles Basin  1/2/2017    2      0.02      \n",
       "2      44  U.C. Riverside  Los Angeles Basin  1/3/2017    3      0.02      \n",
       "3      44  U.C. Riverside  Los Angeles Basin  1/4/2017    4      0.04      \n",
       "4      44  U.C. Riverside  Los Angeles Basin  1/5/2017    5      0.01      \n",
       "\n",
       "   Precip (in) qc.1  Sol Rad (Ly/day)  ... Avg Rel Hum (%)  qc.9  \\\n",
       "0         0.00                  154.0  ...            74.0         \n",
       "1         0.00                  103.0  ...            75.0         \n",
       "2         0.00                  134.0  ...            77.0         \n",
       "3         0.00                  193.0  ...            73.0         \n",
       "4         0.13                   89.0  ...            82.0     Y   \n",
       "\n",
       "  Dew Point (F)  qc.10 Avg Wind Speed (mph)  qc.11 Wind Run (miles)  qc.12  \\\n",
       "0          39.9                         2.5                    59.5          \n",
       "1          41.9                         2.9                    69.8          \n",
       "2          40.8                         2.3                    54.8          \n",
       "3          42.5                         2.3                    55.1          \n",
       "4          49.8      Y                  3.0                    72.2          \n",
       "\n",
       "  Avg Soil Temp (F)  qc.13  \n",
       "0              52.2         \n",
       "1              52.0         \n",
       "2              51.6         \n",
       "3              51.4         \n",
       "4              53.3         \n",
       "\n",
       "[5 rows x 33 columns]"
      ]
     },
     "execution_count": 3,
     "metadata": {},
     "output_type": "execute_result"
    }
   ],
   "source": [
    "data.head()"
   ]
  },
  {
   "cell_type": "markdown",
   "id": "158da6b5",
   "metadata": {},
   "source": [
    "2. How many stations are there?"
   ]
  },
  {
   "cell_type": "code",
   "execution_count": 4,
   "id": "44a32e62",
   "metadata": {},
   "outputs": [
    {
     "name": "stdout",
     "output_type": "stream",
     "text": [
      "Number of unique values: 3\n",
      "Unique values: [44, 99, 107]\n"
     ]
    }
   ],
   "source": [
    "#variable to hold count\n",
    "cnt=0\n",
    "#list to hold visited values\n",
    "visited=[]\n",
    "\n",
    "for i in range(0, len(data['Stn Id'])):\n",
    "    if data['Stn Id'][i] not in visited:\n",
    "        visited.append(data['Stn Id'][i])\n",
    "        cnt+=1\n",
    "        \n",
    "print(\"Number of unique values:\", cnt)\n",
    "print(\"Unique values:\", visited)"
   ]
  },
  {
   "cell_type": "markdown",
   "id": "157b8b19",
   "metadata": {},
   "source": [
    "3. Create dataframe for stations individually for precipitation, avg air tempp, and relative humidity"
   ]
  },
  {
   "cell_type": "code",
   "execution_count": 5,
   "id": "30287b58",
   "metadata": {},
   "outputs": [
    {
     "data": {
      "text/html": [
       "<div>\n",
       "<style scoped>\n",
       "    .dataframe tbody tr th:only-of-type {\n",
       "        vertical-align: middle;\n",
       "    }\n",
       "\n",
       "    .dataframe tbody tr th {\n",
       "        vertical-align: top;\n",
       "    }\n",
       "\n",
       "    .dataframe thead th {\n",
       "        text-align: right;\n",
       "    }\n",
       "</style>\n",
       "<table border=\"1\" class=\"dataframe\">\n",
       "  <thead>\n",
       "    <tr style=\"text-align: right;\">\n",
       "      <th></th>\n",
       "      <th>Date</th>\n",
       "      <th>Precip (in)</th>\n",
       "      <th>Avg Air Temp (F)</th>\n",
       "      <th>Avg Rel Hum (%)</th>\n",
       "    </tr>\n",
       "  </thead>\n",
       "  <tbody>\n",
       "    <tr>\n",
       "      <th>0</th>\n",
       "      <td>1/1/2017</td>\n",
       "      <td>0.00</td>\n",
       "      <td>47.8</td>\n",
       "      <td>74.0</td>\n",
       "    </tr>\n",
       "    <tr>\n",
       "      <th>1</th>\n",
       "      <td>1/2/2017</td>\n",
       "      <td>0.00</td>\n",
       "      <td>49.6</td>\n",
       "      <td>75.0</td>\n",
       "    </tr>\n",
       "    <tr>\n",
       "      <th>2</th>\n",
       "      <td>1/3/2017</td>\n",
       "      <td>0.00</td>\n",
       "      <td>47.8</td>\n",
       "      <td>77.0</td>\n",
       "    </tr>\n",
       "    <tr>\n",
       "      <th>3</th>\n",
       "      <td>1/4/2017</td>\n",
       "      <td>0.00</td>\n",
       "      <td>50.8</td>\n",
       "      <td>73.0</td>\n",
       "    </tr>\n",
       "    <tr>\n",
       "      <th>4</th>\n",
       "      <td>1/5/2017</td>\n",
       "      <td>0.13</td>\n",
       "      <td>55.2</td>\n",
       "      <td>82.0</td>\n",
       "    </tr>\n",
       "  </tbody>\n",
       "</table>\n",
       "</div>"
      ],
      "text/plain": [
       "       Date  Precip (in)  Avg Air Temp (F)  Avg Rel Hum (%)\n",
       "0  1/1/2017         0.00              47.8             74.0\n",
       "1  1/2/2017         0.00              49.6             75.0\n",
       "2  1/3/2017         0.00              47.8             77.0\n",
       "3  1/4/2017         0.00              50.8             73.0\n",
       "4  1/5/2017         0.13              55.2             82.0"
      ]
     },
     "execution_count": 5,
     "metadata": {},
     "output_type": "execute_result"
    }
   ],
   "source": [
    "#split into data frames per station\n",
    "df1 = data[data['Stn Id']==44]\n",
    "df2 = data[data['Stn Id']==99]\n",
    "df3 = data[data['Stn Id']==107]\n",
    "\n",
    "#select specified column for each df\n",
    "sdf1 = df1[[\"Date\", \"Precip (in)\", \"Avg Air Temp (F)\", \"Avg Rel Hum (%)\"]]\n",
    "sdf2 = df2[[\"Date\", \"Precip (in)\", \"Avg Air Temp (F)\", \"Avg Rel Hum (%)\"]]\n",
    "sdf3 = df3[[\"Date\", \"Precip (in)\", \"Avg Air Temp (F)\", \"Avg Rel Hum (%)\"]]\n",
    "\n",
    "sdf1.head()\n"
   ]
  },
  {
   "cell_type": "markdown",
   "id": "6789cadd",
   "metadata": {},
   "source": [
    "4. Caclulate avg monthy statistics for each weather variable at each station"
   ]
  },
  {
   "cell_type": "code",
   "execution_count": 6,
   "id": "ec682ab1-f2e5-46da-ae12-c6e717c14df5",
   "metadata": {},
   "outputs": [
    {
     "ename": "SyntaxError",
     "evalue": "invalid syntax (3768113590.py, line 8)",
     "output_type": "error",
     "traceback": [
      "\u001b[0;36m  Cell \u001b[0;32mIn[6], line 8\u001b[0;36m\u001b[0m\n\u001b[0;31m    split by /\u001b[0m\n\u001b[0m          ^\u001b[0m\n\u001b[0;31mSyntaxError\u001b[0m\u001b[0;31m:\u001b[0m invalid syntax\n"
     ]
    }
   ],
   "source": [
    "from datetime import datetime as dt\n",
    "\n",
    "date = \"1/1/2017\"\n",
    "datetime.strptime(date, \"%m/%d/%Y\")\n",
    "\n",
    "sdf1[\"MONTH\"] = sdf1[\"Date\"].dt.month\n",
    "\n",
    "split by /\n"
   ]
  },
  {
   "cell_type": "markdown",
   "id": "7968787e",
   "metadata": {},
   "source": [
    "6. function converting F to C"
   ]
  },
  {
   "cell_type": "code",
   "execution_count": null,
   "id": "425052aa",
   "metadata": {},
   "outputs": [],
   "source": [
    "def F_to_C (Ftemp):\n",
    "    Ctemp = (Ftemp - 32)*5/9\n",
    "    return Ctemp"
   ]
  },
  {
   "cell_type": "markdown",
   "id": "bf043a10",
   "metadata": {},
   "source": [
    "7. convert avg air temp (F) to (C) and round results to one decimal"
   ]
  },
  {
   "cell_type": "code",
   "execution_count": null,
   "id": "b2768d0f",
   "metadata": {},
   "outputs": [],
   "source": [
    "sdsf1[\"Air Temp (C)\"] = sdf1[\"Air Temp (F)\"].apply(F_to_C)"
   ]
  },
  {
   "cell_type": "markdown",
   "id": "12340f73-fc08-416b-89ca-3d6c600513e8",
   "metadata": {},
   "source": [
    "8. For the daily data at the Santa Monica station, count the number of days in the five year dataset where Avg Air Temp (F) was below 50 degrees or above 100 degrees."
   ]
  },
  {
   "cell_type": "code",
   "execution_count": null,
   "id": "ca4c8589-a36e-4f50-b476-c3abf10b05b8",
   "metadata": {},
   "outputs": [],
   "source": [
    "sdf1[\"Date\"] = pd.to_datetime(sdf1[\"Date\"])\n",
    "\n",
    "below50 = (data[\"Avg Air Temp (F)\"] < 50)\n",
    "above100 =(data[\"Avg Air Temp (F)\"] > 100)\n",
    "\n",
    "print(sum(below50))\n",
    "print(sum(above100))"
   ]
  }
 ],
 "metadata": {
  "kernelspec": {
   "display_name": "Python 3 (ipykernel)",
   "language": "python",
   "name": "python3"
  },
  "language_info": {
   "codemirror_mode": {
    "name": "ipython",
    "version": 3
   },
   "file_extension": ".py",
   "mimetype": "text/x-python",
   "name": "python",
   "nbconvert_exporter": "python",
   "pygments_lexer": "ipython3",
   "version": "3.9.15"
  }
 },
 "nbformat": 4,
 "nbformat_minor": 5
}

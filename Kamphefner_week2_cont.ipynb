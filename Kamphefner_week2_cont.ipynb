{
 "cells": [
  {
   "cell_type": "markdown",
   "id": "9344f045-fcba-424f-a1b6-4296f7898306",
   "metadata": {},
   "source": [
    "## Exercise 2.5 - Classifying temperatures\n",
    "\n",
    "Data classification is another useful data analysis concept, where data values are sorted into different groups that help you to interpret the data. Your goal in this exercise is to sort a list of temperatures into four categories using a Python list for each category (Table 2.7):\n",
    "\n",
    ": _**Table 2.7**. Temperature categories and ranges for Exercise 2.5 and 2.7._\n",
    "\n",
    "|Category    |Temperature range                  | List name     |\n",
    "|:-----------|:----------------------------------|:-------------:|\n",
    "|Cold        |Less than -2 deg. C                | `cold`        |\n",
    "|Slippery    |Greater than or equal to -2 deg. C | `slippery`    |\n",
    "|            |and less than +2 deg. C            |               |\n",
    "|Comfortable |Greater than or equal to +2 deg. C | `comfortable` |\n",
    "|            |and less than +15 deg. C           |               |\n",
    "|Warm        |Greater than or equal to +2 deg. C | `warm`        |\n",
    "\n",
    "The list of temperatures below were measured at the Helsinki Malmi Airport in April 2013 with night, day, and evening temperatures recorded for each day.\n",
    "\n",
    "```python\n",
    "temperatures = [-5.4, 1.0, -1.3, -4.8, 3.9, 0.1, -4.4, 4.0, -2.2, -3.9, 4.4,\n",
    "                -2.5, -4.6, 5.1, 2.1, -2.4, 1.9, -3.3, -4.8, 1.0, -0.8, -2.8,\n",
    "                -0.1, -4.7, -5.6, 2.6, -2.7, -4.6, 3.4, -0.4, -0.9, 3.1, 2.4,\n",
    "                1.6, 4.2, 3.5, 2.6, 3.1, 2.2, 1.8, 3.3, 1.6, 1.5, 4.7, 4.0,\n",
    "                3.6, 4.9, 4.8, 5.3, 5.6, 4.1, 3.7, 7.6, 6.9, 5.1, 6.4, 3.8,\n",
    "                4.0, 8.6, 4.1, 1.4, 8.9, 3.0, 1.6, 8.5, 4.7, 6.6, 8.1, 4.5,\n",
    "                4.8, 11.3, 4.7, 5.2, 11.5, 6.2, 2.9, 4.3, 2.8, 2.8, 6.3, 2.6,\n",
    "                -0.0, 7.3, 3.4, 4.7, 9.3, 6.4, 5.4, 7.6, 5.2]\n",
    "```\n",
    "\n",
    "For this exercise you should:\n",
    "\n",
    "- Use a `for` loop and conditional statments (e.g., `if`, `elif`, and `else`) to sort the temperatures in the list into the lists associated with each category (see Table 2.7).\n",
    "    - *Hint*: Create the empty lists before the start of the `for` loop.\n",
    "- Answer the following questions:\n",
    "    - How many times was it cold in Helsinki in April 2013?\n",
    "    - How many times was it comfortable?\n",
    "    - Was it ever warm?\n",
    "    "
   ]
  },
  {
   "cell_type": "code",
   "execution_count": 19,
   "id": "c5ff0299-ac90-4069-9295-5ae02263fca0",
   "metadata": {},
   "outputs": [
    {
     "name": "stdout",
     "output_type": "stream",
     "text": [
      "It was cold 15 times in Helsinki\n",
      "It was slippery 15 times in Helsinki\n",
      "It was comfortable 15 times in Helsinki\n",
      "It was warm 15 times in Helsinki\n"
     ]
    }
   ],
   "source": [
    "temperatures = [-5.4, 1.0, -1.3, -4.8, 3.9, 0.1, -4.4, 4.0, -2.2, -3.9, 4.4,\n",
    "                -2.5, -4.6, 5.1, 2.1, -2.4, 1.9, -3.3, -4.8, 1.0, -0.8, -2.8,\n",
    "                -0.1, -4.7, -5.6, 2.6, -2.7, -4.6, 3.4, -0.4, -0.9, 3.1, 2.4,\n",
    "                1.6, 4.2, 3.5, 2.6, 3.1, 2.2, 1.8, 3.3, 1.6, 1.5, 4.7, 4.0,\n",
    "                3.6, 4.9, 4.8, 5.3, 5.6, 4.1, 3.7, 7.6, 6.9, 5.1, 6.4, 3.8,\n",
    "                4.0, 8.6, 4.1, 1.4, 8.9, 3.0, 1.6, 8.5, 4.7, 6.6, 8.1, 4.5,\n",
    "                4.8, 11.3, 4.7, 5.2, 11.5, 6.2, 2.9, 4.3, 2.8, 2.8, 6.3, 2.6,\n",
    "                -0.0, 7.3, 3.4, 4.7, 9.3, 6.4, 5.4, 7.6, 5.2]\n",
    "\n",
    "#make new lists to put categories\n",
    "cold = []\n",
    "slippery = []\n",
    "comfortable = []\n",
    "warm = []\n",
    "\n",
    "#put appropriate values in each list\n",
    "for temp in temperatures:\n",
    "    if temp < -2:\n",
    "        cold.append(temp)  \n",
    "    elif temp >= -2 or temp < 2:\n",
    "        slippery.append(temp)  \n",
    "    elif temp >= -2 or temp < 2:\n",
    "        comfortable.append(temp) \n",
    "    elif temp >= 2:\n",
    "        warm.append(temp)\n",
    "\n",
    "#use length of list to determine how many times each weather event occured\n",
    "print(\"It was cold\", (len(cold)), \"times in Helsinki\")\n",
    "print(\"It was slippery\", (len(cold)), \"times in Helsinki\")\n",
    "print(\"It was comfortable\", (len(cold)), \"times in Helsinki\")\n",
    "print(\"It was warm\", (len(cold)), \"times in Helsinki\")"
   ]
  },
  {
   "cell_type": "markdown",
   "id": "3fae95cb-db41-4836-a359-0f0112356cee",
   "metadata": {},
   "source": [
    "## Exercise 2.6 - A temperature conversion function\n",
    "\n",
    "Functions are commonly used for small calculations that occur frequently within a program, such as converting between units.\n",
    "\n",
    "For this problem you should:\n",
    "\n",
    "- Create a function to converts temperature in degrees Fahrenheit to degrees Celsius.\n",
    "    - Be sure to include a docstring in the function definition.\n",
    "- Use the new function to convert the temperatures below to Celsius:\n",
    "    - 32 °F\n",
    "    - 68 °F\n",
    "    - 91 °F\n",
    "    - -17 °F\n"
   ]
  },
  {
   "cell_type": "code",
   "execution_count": 13,
   "id": "86613105-5273-4f52-a1a2-1e60e72cae60",
   "metadata": {},
   "outputs": [
    {
     "name": "stdout",
     "output_type": "stream",
     "text": [
      "0.0 20.0 32.77777777777778 -27.22222222222222\n"
     ]
    }
   ],
   "source": [
    "def F_to_C (Ftemp):\n",
    "    Ctemp = (Ftemp - 32)*5/9\n",
    "    return Ctemp\n",
    "\n",
    "print(F_to_C(Ftemp=32),F_to_C(Ftemp=68), F_to_C(Ftemp=91), F_to_C(Ftemp=-17))"
   ]
  },
  {
   "cell_type": "markdown",
   "id": "fedc0d23-f664-443e-a545-7bc406667e9c",
   "metadata": {},
   "source": [
    "## Exercise 2.7 - A temperature classifier function\n",
    "\n",
    "This exercise uses the same logic presented in Exercise 2.5 to classify temperatures, but now using a function.\n",
    "\n",
    "In this exercise you should:\n",
    "\n",
    "- Create a function that classifies temperatures based on Table 2.8.\n",
    "    - The function should return the following values for the different categories\n",
    "        - `0`: Cold\n",
    "        - `1`: Slippery\n",
    "        - `2`: Comfortable\n",
    "        - `3`: Warm\n",
    "- Use the function to calculate the returned value the following temperatures:\n",
    "    - +17 °C\n",
    "    - +2 °C\n",
    "    - +1.9 °C\n",
    "    - -2 °C"
   ]
  },
  {
   "cell_type": "code",
   "execution_count": 36,
   "id": "72ef14e6-2f1d-44fb-a33c-bd95cd3a3a25",
   "metadata": {},
   "outputs": [
    {
     "name": "stdout",
     "output_type": "stream",
     "text": [
      "The temperature, [17, 2, 1.9, -2], is category, 2\n",
      "The temperature, [17, 2, 1.9, -2], is category, 2\n",
      "The temperature, [17, 2, 1.9, -2], is category, 2\n",
      "The temperature, [17, 2, 1.9, -2], is category, 2\n"
     ]
    }
   ],
   "source": [
    "def tempclass(temp):\n",
    "    if temp < -2:\n",
    "        return 0\n",
    "    elif temp >= -2 and temp < 2:\n",
    "        return 1\n",
    "    elif temp >= 2 and temp < 15:\n",
    "        return 2\n",
    "    else:\n",
    "        return 3\n",
    "\n",
    "temperatures = [17, 2, 1.9, -2]\n",
    "\n",
    "for category in temperatures:\n",
    "    print(f\"The temperature, {temperatures}, is category, {tempclass(temp)}\")\n"
   ]
  },
  {
   "cell_type": "code",
   "execution_count": 31,
   "id": "f408650f-ee2a-4612-8c0a-9e7f30946024",
   "metadata": {},
   "outputs": [
    {
     "name": "stdout",
     "output_type": "stream",
     "text": [
      "The temperature 17 °C is in category 3.\n",
      "The temperature 2 °C is in category 2.\n",
      "The temperature 1.9 °C is in category 1.\n",
      "The temperature -2 °C is in category 1.\n"
     ]
    }
   ],
   "source": [
    "def temp_classifier(temp_celsius):\n",
    "    \"\"\"\n",
    "    Classifies temperatures into 4 different classes according following criteria:\n",
    "    \n",
    "    - Less than -2 degrees: returns 0\n",
    "    - Less than +2 degrees and greater than or equal to -2 degrees: returns 1\n",
    "    - Less than +15 degrees and greater than or equal to +2 degrees: returns 2\n",
    "    - Greater than or equal to 15 degrees: returns 3        \n",
    "    \"\"\"\n",
    "    if temp_celsius < -2:\n",
    "        return 0\n",
    "    elif temp_celsius >= -2 and temp_celsius < 2:\n",
    "        return 1\n",
    "    elif temp_celsius >= 2 and temp_celsius < 15:\n",
    "        return 2\n",
    "    else:\n",
    "        return 3\n",
    "\n",
    "# Create list of temperatures to classify and classify them\n",
    "celsius_temps = [17, 2, 1.9, -2]\n",
    "for celsius_temp in celsius_temps:\n",
    "    print(f\"The temperature {celsius_temp} °C is in category {temp_classifier(celsius_temp)}.\")"
   ]
  },
  {
   "cell_type": "code",
   "execution_count": null,
   "id": "e3b3f016-f5e1-4b0b-ab44-4cd5e166e61e",
   "metadata": {},
   "outputs": [],
   "source": []
  }
 ],
 "metadata": {
  "kernelspec": {
   "display_name": "Python 3 (ipykernel)",
   "language": "python",
   "name": "python3"
  },
  "language_info": {
   "codemirror_mode": {
    "name": "ipython",
    "version": 3
   },
   "file_extension": ".py",
   "mimetype": "text/x-python",
   "name": "python",
   "nbconvert_exporter": "python",
   "pygments_lexer": "ipython3",
   "version": "3.9.15"
  }
 },
 "nbformat": 4,
 "nbformat_minor": 5
}

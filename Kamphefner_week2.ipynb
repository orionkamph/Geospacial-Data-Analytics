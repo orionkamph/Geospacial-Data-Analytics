{
 "cells": [
  {
   "cell_type": "markdown",
   "id": "25cd2a35-ecf8-4f33-a3aa-10693f67fff3",
   "metadata": {},
   "source": [
    "Solutions for excersize 2.1"
   ]
  },
  {
   "cell_type": "code",
   "execution_count": null,
   "id": "4448b385-95af-4f7a-a92f-9a5f4fc51e97",
   "metadata": {},
   "outputs": [],
   "source": []
  },
  {
   "cell_type": "markdown",
   "id": "d23c6a83-8e6c-4eeb-bcf7-1970990e1c09",
   "metadata": {},
   "source": [
    "## Exercise 2.1 - Getting started with Python\n",
    "\n",
    "The goal of this exercise is to print text like that below to the screen based on variable values you define.\n",
    "\n",
    "```\n",
    "My name is Brianna and I give eating ice cream a score of 9 out of 10!\n",
    "My sleeping enjoyment rating is 8 / 10!\n",
    "Based on the factors above, my happiness rating is 8.5 out of 10 or 85.0 %!\n",
    "```\n",
    "For this exercise you should:\n",
    "\n",
    "- Create three variables: one integer value (whole number) for your ice cream rating, another integer for your sleeping rating, and a character string for your first name. \n",
    "- Calculate the average of the two ratings. Store the result in a variable for your happiness.\n",
    "- Find the data type of each of the variables you have defined. Are there any surprises?\n",
    "- Reproduce your version of the example text using the `print()` function and the variables you have defined. Note that you may need to be careful combining text and numbers!"
   ]
  },
  {
   "cell_type": "code",
   "execution_count": 18,
   "id": "d13a7973-dc76-4c8b-b7c3-1fe51db88819",
   "metadata": {},
   "outputs": [
    {
     "name": "stdout",
     "output_type": "stream",
     "text": [
      "My name is Orion and I give eating ice cream a 10 out of 10\n",
      "My sleeping enjoyment rating is 9 out of 10\n",
      "Based on the factors above, my happiness rating is 9.5 out of 10 or 95.0 %\n",
      "<class 'int'> <class 'int'> <class 'str'> <class 'float'>\n"
     ]
    }
   ],
   "source": [
    "IceCreamRating = 10\n",
    "SleepRating = 9\n",
    "Name = \"Orion\"\n",
    "\n",
    "import statistics\n",
    "\n",
    "List = [IceCreamRating, SleepRating]\n",
    "Average = statistics.mean(List)\n",
    "\n",
    "print('My name is', Name, 'and I give eating ice cream a', IceCreamRating, 'out of 10')\n",
    "print('My sleeping enjoyment rating is', SleepRating, 'out of 10')\n",
    "print('Based on the factors above, my happiness rating is', Average, 'out of 10 or', (Average*10), '%')\n",
    "\n",
    "print(type(IceCreamRating), type(SleepRating), type(Name), type(Average))\n"
   ]
  },
  {
   "cell_type": "markdown",
   "id": "e37fd058-012a-48ac-9e9a-5605dd63feee",
   "metadata": {},
   "source": [
    "There are no suprises all of the data is classified as expected."
   ]
  },
  {
   "cell_type": "markdown",
   "id": "698edf4b-ce50-4681-8487-b5c79d4df6ea",
   "metadata": {},
   "source": [
    "## Exercise 2.2 - Creating and changing lists\n",
    "\n",
    ": _**Table 2.5**. [FMI observation stations](http://en.ilmatieteenlaitos.fi/observation-stations) and the years in which they began operating_.\n",
    "\n",
    "|FMI station name       | First year of operation | Group |\n",
    "|:----------------------|:-----------------------:|:-----:|\n",
    "|lighthouse             | 2003                    | 1     |\n",
    "|Harmaja                | 1989                    | 1     |\n",
    "|Suomenlinna aaltopoiju | 2016                    | 1     |\n",
    "|Kumpula                | 2005                    | 1     |\n",
    "|Kaisaniemi             | 1844                    | 1     |\n",
    "|Malmi airfield         | 1937                    | 2     |\n",
    "|Vuosaari harbour       | 2012                    | 2     |\n",
    "|Kaivopuisto            | 1904                    | 2     |\n",
    "\n",
    "For this exercise you should use the data in Table 2.5 to:\n",
    "\n",
    "- Create two lists for the station names and first years of operation for the stations in Group 1 in Table 2.5. Be sure to list the values in the order they appear in the table.\n",
    "- Modify the lists you just created to add the values Group 2, again keeping them in the same order.\n",
    "- Sort the two lists, sorting the first in alphabetical order and the second so that the most recent starting year is first\n",
    "    - Do you see any problems with how the lists have been sorted?\n",
    "    - Python has a function called `zip()` that might be helpful in solving the sorting issue. Search online to see whether you can find a way to use `zip()` to solve the problem with the two lists."
   ]
  },
  {
   "cell_type": "code",
   "execution_count": 21,
   "id": "fb9819f7-58eb-4f1a-a7ca-11262497ddc4",
   "metadata": {},
   "outputs": [
    {
     "name": "stdout",
     "output_type": "stream",
     "text": [
      "Sorted names: ['Harmaja', 'Kaivopuisto', 'Kumpula, Kaisaniemi', 'Malmi airfield', 'Suomenlinna aaltopoiju', 'Vuosaari harbour', 'lighthouse']\n",
      "Sorted years: [1844, 1844, 1904, 1937, 1989, 2003, 2005, 2012, 2016]\n",
      "Sorted names and years: [('Harmaja', 1989), ('Kaivopuisto', 1937), ('Kumpula, Kaisaniemi', 2005), ('Malmi airfield', 1844), ('Suomenlinna aaltopoiju', 2016), ('Vuosaari harbour', 1844), ('lighthouse', 2003)]\n"
     ]
    }
   ],
   "source": [
    "station_names = ['lighthouse', 'Harmaja', 'Suomenlinna aaltopoiju', 'Kumpula, Kaisaniemi']\n",
    "year_operation = [2003, 1989, 2016, 2005, 1844]\n",
    "\n",
    "station_names.append('Malmi airfield')\n",
    "station_names.append('Vuosaari harbour')\n",
    "station_names.append('Kaivopuisto')\n",
    "year_operation.append(1844)\n",
    "year_operation.append(1937)\n",
    "year_operation.append(2012)\n",
    "year_operation.append(1904)\n",
    "\n",
    "print('Sorted names:',sorted(station_names))\n",
    "print('Sorted years:',sorted(year_operation))\n",
    "\n",
    "zipped = zip(station_names, year_operation)\n",
    "print('Sorted names and years:',sorted(zipped))"
   ]
  },
  {
   "cell_type": "markdown",
   "id": "b94f46a2-197e-4f22-ad05-0981540fb628",
   "metadata": {},
   "source": [
    "## Exercise 2.3 - Lists and index values\n",
    "\n",
    ": _**Table 2.6**. [Monthly average temperatures recorded at the Helsinki Malmi airport](https://www.timeanddate.com/weather/finland/helsinki/climate)._\n",
    "\n",
    "|Month     | Temperature (°C) |\n",
    "|:---------|:----------------:|\n",
    "|January   | -3.5             |\n",
    "|February  | -4.5             |\n",
    "|March     | -1.0             |\n",
    "|April     | 4.0              |\n",
    "|May       | 10.0             |\n",
    "|June      | 15.0             |\n",
    "|July      | 18.0             |\n",
    "|August    | 16.0             |\n",
    "|September | 11.5             |\n",
    "|October   | 6.0              |\n",
    "|November  | 2.0              |\n",
    "|December  | -1.5             |\n",
    "\n",
    "For this exercise you should use the data in Table 2.6 to:\n",
    "\n",
    "- Create two lists with the months and their average temperatures.\n",
    "- Use a print statement to produce output like that below, where the months and temperatures are selected using index values in the corresponding lists.\n",
    "\n",
    "```\n",
    "The average temperature in Helsinki in March is -1.0\n",
    "```"
   ]
  },
  {
   "cell_type": "code",
   "execution_count": 24,
   "id": "f43305ca-4f76-4749-a54d-838f1b07ee86",
   "metadata": {},
   "outputs": [
    {
     "name": "stdout",
     "output_type": "stream",
     "text": [
      "The average temperature in January is -3.5\n",
      "The average temperature in February is -4.5\n",
      "The average temperature in March is -1.0\n",
      "The average temperature in April is 4.0\n",
      "The average temperature in May is 10.0\n",
      "The average temperature in June is 15.0\n",
      "The average temperature in July is 18.0\n",
      "The average temperature in August is 16.0\n",
      "The average temperature in September is 11.5\n",
      "The average temperature in October is 6.0\n",
      "The average temperature in November is 2.0\n",
      "The average temperature in December is -1.5\n"
     ]
    }
   ],
   "source": [
    "month = ['January', 'February', 'March', 'April', 'May', 'June', 'July', 'August', 'September', 'October', 'November', 'December']\n",
    "temp = [-3.5, -4.5, -1.0, 4.0, 10.0, 15.0, 18.0, 16.0, 11.5, 6.0, 2.0, -1.5]\n",
    "\n",
    "for i in range(len(month)):\n",
    "    print('The average temperature in', month[i], \"is\", temp[i])"
   ]
  },
  {
   "cell_type": "markdown",
   "id": "ba3e6419-b5fa-49e3-8b55-87670e4dcdf1",
   "metadata": {},
   "source": [
    "## Exercise 2.4 - Batch processing files with a `for` loop\n",
    "\n",
    "Batch processing is a common task in Python, where a set of data and/or files are analyzed one after another using the same script or program. In this exercise your goal is to produce a Python list of filenames that could be used to batch process the data they contain.\n",
    "\n",
    "For this exercise you should:\n",
    "\n",
    "- Use a `for` loop to create a Python list that produces the output below when you print the list:\n",
    "\n",
    "    ```\n",
    "    ['Station_0.txt', 'Station_1.txt', 'Station_2.txt', 'Station_3.txt',\n",
    "     'Station_4.txt', 'Station_5.txt', 'Station_6.txt', 'Station_7.txt',\n",
    "     'Station_8.txt', 'Station_9.txt', 'Station_10.txt', 'Station_11.txt',\n",
    "     'Station_12.txt', 'Station_13.txt', 'Station_14.txt', 'Station_15.txt',\n",
    "     'Station_16.txt', 'Station_17.txt', 'Station_18.txt', 'Station_19.txt',\n",
    "     'Station_20.txt']\n",
    "    ```\n"
   ]
  },
  {
   "cell_type": "code",
   "execution_count": 25,
   "id": "0f05805f-25d0-41ff-8545-9b2c9ca61def",
   "metadata": {},
   "outputs": [
    {
     "name": "stdout",
     "output_type": "stream",
     "text": [
      "Station_ 0 .txt\n",
      "Station_ 1 .txt\n",
      "Station_ 2 .txt\n",
      "Station_ 3 .txt\n",
      "Station_ 4 .txt\n",
      "Station_ 5 .txt\n",
      "Station_ 6 .txt\n",
      "Station_ 7 .txt\n",
      "Station_ 8 .txt\n",
      "Station_ 9 .txt\n",
      "Station_ 10 .txt\n",
      "Station_ 11 .txt\n",
      "Station_ 12 .txt\n",
      "Station_ 13 .txt\n",
      "Station_ 14 .txt\n",
      "Station_ 15 .txt\n",
      "Station_ 16 .txt\n",
      "Station_ 17 .txt\n",
      "Station_ 18 .txt\n",
      "Station_ 19 .txt\n",
      "Station_ 20 .txt\n"
     ]
    }
   ],
   "source": [
    "for i in range(21):\n",
    "    print('Station_',i,'.txt')"
   ]
  },
  {
   "cell_type": "code",
   "execution_count": null,
   "id": "76c6197f-355a-45e4-84d8-cd86e4fbb94d",
   "metadata": {},
   "outputs": [],
   "source": []
  }
 ],
 "metadata": {
  "kernelspec": {
   "display_name": "Python 3 (ipykernel)",
   "language": "python",
   "name": "python3"
  },
  "language_info": {
   "codemirror_mode": {
    "name": "ipython",
    "version": 3
   },
   "file_extension": ".py",
   "mimetype": "text/x-python",
   "name": "python",
   "nbconvert_exporter": "python",
   "pygments_lexer": "ipython3",
   "version": "3.9.15"
  }
 },
 "nbformat": 4,
 "nbformat_minor": 5
}
